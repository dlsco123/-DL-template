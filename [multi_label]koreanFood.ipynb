{
 "cells": [
  {
   "attachments": {},
   "cell_type": "markdown",
   "metadata": {},
   "source": [
    "## Import OS & Libraries"
   ]
  },
  {
   "cell_type": "code",
   "execution_count": 42,
   "metadata": {},
   "outputs": [],
   "source": [
    "import tensorflow as tf\n",
    "from tensorflow.keras.preprocessing.image import ImageDataGenerator\n",
    "from tensorflow.keras.applications import EfficientNetB0\n",
    "from tensorflow.keras.layers import Dense\n",
    "from tensorflow.keras import Model\n",
    "from tensorflow.keras.optimizers import Adam\n",
    "from sklearn.model_selection import train_test_split\n",
    "from sklearn.preprocessing import MultiLabelBinarizer\n",
    "from sklearn.metrics import multilabel_confusion_matrix, accuracy_score"
   ]
  },
  {
   "cell_type": "code",
   "execution_count": 48,
   "metadata": {},
   "outputs": [],
   "source": [
    "# 1. 데이터 로딩\n",
    "data_dir = \"c:/data/koreanfood\"\n",
    "batch_size = 16\n",
    "img_height = 128\n",
    "img_width = 128"
   ]
  },
  {
   "cell_type": "code",
   "execution_count": 49,
   "metadata": {},
   "outputs": [
    {
     "name": "stdout",
     "output_type": "stream",
     "text": [
      "Found 93 images belonging to 31 classes.\n",
      "Found 1 images belonging to 31 classes.\n"
     ]
    }
   ],
   "source": [
    "datagen = ImageDataGenerator(rescale=1./255, validation_split=0.2) # Assuming 20% data as validation\n",
    "train_ds = datagen.flow_from_directory(\n",
    "    data_dir,\n",
    "    target_size=(img_height, img_width),\n",
    "    batch_size=batch_size,\n",
    "    subset='training') \n",
    "\n",
    "val_ds = datagen.flow_from_directory(\n",
    "    data_dir,\n",
    "    target_size=(img_height, img_width),\n",
    "    batch_size=batch_size,\n",
    "    subset='validation')"
   ]
  },
  {
   "cell_type": "code",
   "execution_count": 50,
   "metadata": {},
   "outputs": [],
   "source": [
    "# 2. 모델 정의\n",
    "base_model = EfficientNetB0(include_top=False, weights=\"imagenet\", input_shape=(img_height, img_width, 3), pooling='avg')\n",
    "output = Dense(len(train_ds.class_indices), activation='sigmoid')(base_model.output)  # sigmoid for multi-label\n",
    "model = Model(inputs=base_model.input, outputs=output)"
   ]
  },
  {
   "cell_type": "code",
   "execution_count": 51,
   "metadata": {},
   "outputs": [],
   "source": [
    "# 3. 모델 컴파일\n",
    "model.compile(loss='binary_crossentropy', optimizer=Adam(), metrics=['accuracy'])  # binary_crossentropy for multi-label"
   ]
  },
  {
   "cell_type": "code",
   "execution_count": 52,
   "metadata": {},
   "outputs": [
    {
     "name": "stdout",
     "output_type": "stream",
     "text": [
      "Epoch 1/10\n",
      "6/6 [==============================] - 9s 543ms/step - loss: 0.5497 - accuracy: 0.0323 - val_loss: 0.6460 - val_accuracy: 0.0000e+00\n",
      "Epoch 2/10\n",
      "6/6 [==============================] - 1s 68ms/step - loss: 0.2068 - accuracy: 0.2688 - val_loss: 0.3372 - val_accuracy: 0.0000e+00\n",
      "Epoch 3/10\n",
      "6/6 [==============================] - 1s 86ms/step - loss: 0.1230 - accuracy: 0.5806 - val_loss: 0.3047 - val_accuracy: 0.0000e+00\n",
      "Epoch 4/10\n",
      "6/6 [==============================] - 1s 81ms/step - loss: 0.0947 - accuracy: 0.7419 - val_loss: 0.7594 - val_accuracy: 0.0000e+00\n",
      "Epoch 5/10\n",
      "6/6 [==============================] - 1s 78ms/step - loss: 0.0675 - accuracy: 0.8710 - val_loss: 1.5513 - val_accuracy: 0.0000e+00\n",
      "Epoch 6/10\n",
      "6/6 [==============================] - 0s 76ms/step - loss: 0.0403 - accuracy: 0.9677 - val_loss: 1.8355 - val_accuracy: 0.0000e+00\n",
      "Epoch 7/10\n",
      "6/6 [==============================] - 1s 73ms/step - loss: 0.0289 - accuracy: 0.9892 - val_loss: 1.9364 - val_accuracy: 0.0000e+00\n",
      "Epoch 8/10\n",
      "6/6 [==============================] - 1s 84ms/step - loss: 0.0191 - accuracy: 1.0000 - val_loss: 1.9193 - val_accuracy: 0.0000e+00\n",
      "Epoch 9/10\n",
      "6/6 [==============================] - 1s 81ms/step - loss: 0.0149 - accuracy: 1.0000 - val_loss: 1.6944 - val_accuracy: 0.0000e+00\n",
      "Epoch 10/10\n",
      "6/6 [==============================] - 1s 79ms/step - loss: 0.0103 - accuracy: 1.0000 - val_loss: 1.1726 - val_accuracy: 0.0000e+00\n"
     ]
    }
   ],
   "source": [
    "# 4. 모델 학습\n",
    "epochs = 10\n",
    "history = model.fit(\n",
    "    train_ds,\n",
    "    validation_data=val_ds,\n",
    "    epochs=epochs\n",
    ")"
   ]
  },
  {
   "cell_type": "code",
   "execution_count": 53,
   "metadata": {},
   "outputs": [],
   "source": [
    "# 5. 예측\n",
    "test_imgs, test_labels = next(val_ds)  # Assuming you are using some validation data as test\n",
    "predictions = model.predict(test_imgs)\n",
    "predictions = predictions > 0.5  # Convert probabilities into class labels"
   ]
  },
  {
   "cell_type": "code",
   "execution_count": 55,
   "metadata": {},
   "outputs": [
    {
     "name": "stdout",
     "output_type": "stream",
     "text": [
      "[[[0 1]\n",
      "  [0 0]]\n",
      "\n",
      " [[0 1]\n",
      "  [0 0]]\n",
      "\n",
      " [[0 1]\n",
      "  [0 0]]\n",
      "\n",
      " [[0 1]\n",
      "  [0 0]]\n",
      "\n",
      " [[0 1]\n",
      "  [0 0]]\n",
      "\n",
      " [[0 1]\n",
      "  [0 0]]\n",
      "\n",
      " [[0 0]\n",
      "  [0 1]]\n",
      "\n",
      " [[0 1]\n",
      "  [0 0]]\n",
      "\n",
      " [[0 1]\n",
      "  [0 0]]\n",
      "\n",
      " [[0 1]\n",
      "  [0 0]]\n",
      "\n",
      " [[0 1]\n",
      "  [0 0]]\n",
      "\n",
      " [[0 1]\n",
      "  [0 0]]\n",
      "\n",
      " [[0 1]\n",
      "  [0 0]]\n",
      "\n",
      " [[1 0]\n",
      "  [0 0]]\n",
      "\n",
      " [[0 1]\n",
      "  [0 0]]\n",
      "\n",
      " [[0 1]\n",
      "  [0 0]]\n",
      "\n",
      " [[0 1]\n",
      "  [0 0]]\n",
      "\n",
      " [[0 1]\n",
      "  [0 0]]\n",
      "\n",
      " [[0 1]\n",
      "  [0 0]]\n",
      "\n",
      " [[0 1]\n",
      "  [0 0]]\n",
      "\n",
      " [[0 1]\n",
      "  [0 0]]\n",
      "\n",
      " [[0 1]\n",
      "  [0 0]]\n",
      "\n",
      " [[0 1]\n",
      "  [0 0]]\n",
      "\n",
      " [[0 1]\n",
      "  [0 0]]\n",
      "\n",
      " [[0 1]\n",
      "  [0 0]]\n",
      "\n",
      " [[0 1]\n",
      "  [0 0]]\n",
      "\n",
      " [[0 1]\n",
      "  [0 0]]\n",
      "\n",
      " [[0 1]\n",
      "  [0 0]]\n",
      "\n",
      " [[0 1]\n",
      "  [0 0]]\n",
      "\n",
      " [[0 1]\n",
      "  [0 0]]\n",
      "\n",
      " [[0 1]\n",
      "  [0 0]]]\n"
     ]
    }
   ],
   "source": [
    "# 6. 성능 평가\n",
    "print(multilabel_confusion_matrix(test_labels, predictions))  # Print confusion matrix"
   ]
  },
  {
   "cell_type": "code",
   "execution_count": 56,
   "metadata": {},
   "outputs": [
    {
     "name": "stdout",
     "output_type": "stream",
     "text": [
      "0.0\n"
     ]
    }
   ],
   "source": [
    "print(accuracy_score(test_labels, predictions))  # Print accuracy score"
   ]
  }
 ],
 "metadata": {
  "kernelspec": {
   "display_name": "gpu",
   "language": "python",
   "name": "python3"
  },
  "language_info": {
   "codemirror_mode": {
    "name": "ipython",
    "version": 3
   },
   "file_extension": ".py",
   "mimetype": "text/x-python",
   "name": "python",
   "nbconvert_exporter": "python",
   "pygments_lexer": "ipython3",
   "version": "3.9.16"
  },
  "orig_nbformat": 4
 },
 "nbformat": 4,
 "nbformat_minor": 2
}
